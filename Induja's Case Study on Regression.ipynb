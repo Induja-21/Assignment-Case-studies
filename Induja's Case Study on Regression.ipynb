{
 "cells": [
  {
   "cell_type": "markdown",
   "id": "8a62acc1",
   "metadata": {},
   "source": [
    "# Assignment 5"
   ]
  },
  {
   "cell_type": "markdown",
   "id": "309ac7d0",
   "metadata": {},
   "source": [
    "The given dataset contains price of second-hand Hyundai grand i10 car with \n",
    "respect to year of making. Find the best linear relationship between year and \n",
    "price. Can you predict the possible price of a 2022 model second-hand grand i10?\n",
    "Please learn about lasso regression and create a model along with linear\n",
    "regression. Find out which one is performing better."
   ]
  },
  {
   "cell_type": "code",
   "execution_count": 19,
   "id": "525fc2f5",
   "metadata": {},
   "outputs": [],
   "source": [
    "# importing libraries\n",
    "import pandas as pd\n",
    "import numpy as np\n",
    "import seaborn as sns\n",
    "import matplotlib.pyplot as plt"
   ]
  },
  {
   "cell_type": "code",
   "execution_count": 20,
   "id": "7927a241",
   "metadata": {},
   "outputs": [],
   "source": [
    "# importing dataset\n",
    "data=pd.read_csv(r'C:\\Users\\induj\\Downloads\\car_age_price.csv')"
   ]
  },
  {
   "cell_type": "code",
   "execution_count": 21,
   "id": "324d6783",
   "metadata": {},
   "outputs": [
    {
     "data": {
      "text/html": [
       "<div>\n",
       "<style scoped>\n",
       "    .dataframe tbody tr th:only-of-type {\n",
       "        vertical-align: middle;\n",
       "    }\n",
       "\n",
       "    .dataframe tbody tr th {\n",
       "        vertical-align: top;\n",
       "    }\n",
       "\n",
       "    .dataframe thead th {\n",
       "        text-align: right;\n",
       "    }\n",
       "</style>\n",
       "<table border=\"1\" class=\"dataframe\">\n",
       "  <thead>\n",
       "    <tr style=\"text-align: right;\">\n",
       "      <th></th>\n",
       "      <th>Year</th>\n",
       "      <th>Price</th>\n",
       "    </tr>\n",
       "  </thead>\n",
       "  <tbody>\n",
       "    <tr>\n",
       "      <th>0</th>\n",
       "      <td>2018</td>\n",
       "      <td>465000</td>\n",
       "    </tr>\n",
       "    <tr>\n",
       "      <th>1</th>\n",
       "      <td>2019</td>\n",
       "      <td>755000</td>\n",
       "    </tr>\n",
       "    <tr>\n",
       "      <th>2</th>\n",
       "      <td>2019</td>\n",
       "      <td>700000</td>\n",
       "    </tr>\n",
       "    <tr>\n",
       "      <th>3</th>\n",
       "      <td>2018</td>\n",
       "      <td>465000</td>\n",
       "    </tr>\n",
       "    <tr>\n",
       "      <th>4</th>\n",
       "      <td>2018</td>\n",
       "      <td>465000</td>\n",
       "    </tr>\n",
       "    <tr>\n",
       "      <th>...</th>\n",
       "      <td>...</td>\n",
       "      <td>...</td>\n",
       "    </tr>\n",
       "    <tr>\n",
       "      <th>107</th>\n",
       "      <td>2016</td>\n",
       "      <td>375000</td>\n",
       "    </tr>\n",
       "    <tr>\n",
       "      <th>108</th>\n",
       "      <td>2014</td>\n",
       "      <td>300000</td>\n",
       "    </tr>\n",
       "    <tr>\n",
       "      <th>109</th>\n",
       "      <td>2015</td>\n",
       "      <td>425000</td>\n",
       "    </tr>\n",
       "    <tr>\n",
       "      <th>110</th>\n",
       "      <td>2016</td>\n",
       "      <td>420000</td>\n",
       "    </tr>\n",
       "    <tr>\n",
       "      <th>111</th>\n",
       "      <td>2015</td>\n",
       "      <td>425000</td>\n",
       "    </tr>\n",
       "  </tbody>\n",
       "</table>\n",
       "<p>112 rows × 2 columns</p>\n",
       "</div>"
      ],
      "text/plain": [
       "     Year   Price\n",
       "0    2018  465000\n",
       "1    2019  755000\n",
       "2    2019  700000\n",
       "3    2018  465000\n",
       "4    2018  465000\n",
       "..    ...     ...\n",
       "107  2016  375000\n",
       "108  2014  300000\n",
       "109  2015  425000\n",
       "110  2016  420000\n",
       "111  2015  425000\n",
       "\n",
       "[112 rows x 2 columns]"
      ]
     },
     "execution_count": 21,
     "metadata": {},
     "output_type": "execute_result"
    }
   ],
   "source": [
    "data"
   ]
  },
  {
   "cell_type": "code",
   "execution_count": 22,
   "id": "a12b4f53",
   "metadata": {},
   "outputs": [
    {
     "data": {
      "text/plain": [
       "(112, 2)"
      ]
     },
     "execution_count": 22,
     "metadata": {},
     "output_type": "execute_result"
    }
   ],
   "source": [
    "# shape of the data\n",
    "data.shape"
   ]
  },
  {
   "cell_type": "code",
   "execution_count": 23,
   "id": "c477f35f",
   "metadata": {},
   "outputs": [
    {
     "data": {
      "text/plain": [
       "Year     0\n",
       "Price    0\n",
       "dtype: int64"
      ]
     },
     "execution_count": 23,
     "metadata": {},
     "output_type": "execute_result"
    }
   ],
   "source": [
    "# check for null values\n",
    "data.isna().sum()"
   ]
  },
  {
   "cell_type": "code",
   "execution_count": 24,
   "id": "fbcb347e",
   "metadata": {},
   "outputs": [
    {
     "data": {
      "text/plain": [
       "35"
      ]
     },
     "execution_count": 24,
     "metadata": {},
     "output_type": "execute_result"
    }
   ],
   "source": [
    "data['Price'].nunique()"
   ]
  },
  {
   "cell_type": "code",
   "execution_count": 25,
   "id": "f136c748",
   "metadata": {},
   "outputs": [
    {
     "data": {
      "text/plain": [
       "array([465000, 755000, 700000, 350000, 425000, 575000, 509999, 500000,\n",
       "       600000, 475000, 550000, 434999, 650000, 450000, 486000, 545000,\n",
       "       525000, 396000, 325000, 345000, 341000, 490000, 540000, 595000,\n",
       "       495000, 400000, 300000, 320000, 409999, 390000, 480000, 520000,\n",
       "       640000, 375000, 420000], dtype=int64)"
      ]
     },
     "execution_count": 25,
     "metadata": {},
     "output_type": "execute_result"
    }
   ],
   "source": [
    "data['Price'].unique()"
   ]
  },
  {
   "cell_type": "code",
   "execution_count": 26,
   "id": "f23c8bed",
   "metadata": {},
   "outputs": [
    {
     "data": {
      "text/html": [
       "<div>\n",
       "<style scoped>\n",
       "    .dataframe tbody tr th:only-of-type {\n",
       "        vertical-align: middle;\n",
       "    }\n",
       "\n",
       "    .dataframe tbody tr th {\n",
       "        vertical-align: top;\n",
       "    }\n",
       "\n",
       "    .dataframe thead th {\n",
       "        text-align: right;\n",
       "    }\n",
       "</style>\n",
       "<table border=\"1\" class=\"dataframe\">\n",
       "  <thead>\n",
       "    <tr style=\"text-align: right;\">\n",
       "      <th></th>\n",
       "      <th>Year</th>\n",
       "      <th>Price</th>\n",
       "    </tr>\n",
       "  </thead>\n",
       "  <tbody>\n",
       "    <tr>\n",
       "      <th>count</th>\n",
       "      <td>112.000000</td>\n",
       "      <td>112.000000</td>\n",
       "    </tr>\n",
       "    <tr>\n",
       "      <th>mean</th>\n",
       "      <td>2016.669643</td>\n",
       "      <td>483866.044643</td>\n",
       "    </tr>\n",
       "    <tr>\n",
       "      <th>std</th>\n",
       "      <td>1.629616</td>\n",
       "      <td>91217.450533</td>\n",
       "    </tr>\n",
       "    <tr>\n",
       "      <th>min</th>\n",
       "      <td>2013.000000</td>\n",
       "      <td>300000.000000</td>\n",
       "    </tr>\n",
       "    <tr>\n",
       "      <th>25%</th>\n",
       "      <td>2015.000000</td>\n",
       "      <td>423750.000000</td>\n",
       "    </tr>\n",
       "    <tr>\n",
       "      <th>50%</th>\n",
       "      <td>2017.000000</td>\n",
       "      <td>500000.000000</td>\n",
       "    </tr>\n",
       "    <tr>\n",
       "      <th>75%</th>\n",
       "      <td>2017.000000</td>\n",
       "      <td>550000.000000</td>\n",
       "    </tr>\n",
       "    <tr>\n",
       "      <th>max</th>\n",
       "      <td>2020.000000</td>\n",
       "      <td>755000.000000</td>\n",
       "    </tr>\n",
       "  </tbody>\n",
       "</table>\n",
       "</div>"
      ],
      "text/plain": [
       "              Year          Price\n",
       "count   112.000000     112.000000\n",
       "mean   2016.669643  483866.044643\n",
       "std       1.629616   91217.450533\n",
       "min    2013.000000  300000.000000\n",
       "25%    2015.000000  423750.000000\n",
       "50%    2017.000000  500000.000000\n",
       "75%    2017.000000  550000.000000\n",
       "max    2020.000000  755000.000000"
      ]
     },
     "execution_count": 26,
     "metadata": {},
     "output_type": "execute_result"
    }
   ],
   "source": [
    "data.describe()"
   ]
  },
  {
   "cell_type": "code",
   "execution_count": 27,
   "id": "b3099de9",
   "metadata": {},
   "outputs": [
    {
     "data": {
      "text/plain": [
       "<AxesSubplot:>"
      ]
     },
     "execution_count": 27,
     "metadata": {},
     "output_type": "execute_result"
    },
    {
     "data": {
      "image/png": "[encoded data removed]",
      "text/plain": [
       "<Figure size 720x576 with 2 Axes>"
      ]
     },
     "metadata": {
      "needs_background": "light"
     },
     "output_type": "display_data"
    }
   ],
   "source": [
    "# correlation matrix\n",
    "corrmatrix=data.corr()\n",
    "plt.subplots(figsize=(10,8))\n",
    "sns.heatmap(corrmatrix,vmin=-0.7,vmax=0.7,annot=True,cmap='YlGnBu')"
   ]
  },
  {
   "cell_type": "code",
   "execution_count": 28,
   "id": "47a2b0b3",
   "metadata": {},
   "outputs": [],
   "source": [
    "# fetching the values from the given column"
   ]
  },
  {
   "cell_type": "code",
   "execution_count": 29,
   "id": "2ad92452",
   "metadata": {},
   "outputs": [
    {
     "name": "stdout",
     "output_type": "stream",
     "text": [
      "Expected format is: \n",
      " [[2018]\n",
      " [2019]\n",
      " [2019]\n",
      " [2018]\n",
      " [2018]\n",
      " [2015]\n",
      " [2016]\n",
      " [2017]\n",
      " [2017]\n",
      " [2017]\n",
      " [2019]\n",
      " [2018]\n",
      " [2017]\n",
      " [2019]\n",
      " [2017]\n",
      " [2017]\n",
      " [2017]\n",
      " [2017]\n",
      " [2019]\n",
      " [2017]\n",
      " [2018]\n",
      " [2019]\n",
      " [2015]\n",
      " [2017]\n",
      " [2017]\n",
      " [2017]\n",
      " [2017]\n",
      " [2017]\n",
      " [2017]\n",
      " [2017]\n",
      " [2019]\n",
      " [2017]\n",
      " [2017]\n",
      " [2017]\n",
      " [2017]\n",
      " [2017]\n",
      " [2017]\n",
      " [2017]\n",
      " [2018]\n",
      " [2020]\n",
      " [2019]\n",
      " [2019]\n",
      " [2018]\n",
      " [2019]\n",
      " [2019]\n",
      " [2018]\n",
      " [2019]\n",
      " [2018]\n",
      " [2016]\n",
      " [2018]\n",
      " [2013]\n",
      " [2018]\n",
      " [2013]\n",
      " [2013]\n",
      " [2017]\n",
      " [2017]\n",
      " [2014]\n",
      " [2017]\n",
      " [2014]\n",
      " [2016]\n",
      " [2015]\n",
      " [2017]\n",
      " [2017]\n",
      " [2017]\n",
      " [2015]\n",
      " [2017]\n",
      " [2017]\n",
      " [2015]\n",
      " [2015]\n",
      " [2015]\n",
      " [2015]\n",
      " [2017]\n",
      " [2015]\n",
      " [2013]\n",
      " [2017]\n",
      " [2017]\n",
      " [2015]\n",
      " [2015]\n",
      " [2015]\n",
      " [2015]\n",
      " [2015]\n",
      " [2014]\n",
      " [2015]\n",
      " [2017]\n",
      " [2015]\n",
      " [2015]\n",
      " [2017]\n",
      " [2017]\n",
      " [2017]\n",
      " [2017]\n",
      " [2017]\n",
      " [2017]\n",
      " [2017]\n",
      " [2017]\n",
      " [2017]\n",
      " [2017]\n",
      " [2017]\n",
      " [2020]\n",
      " [2020]\n",
      " [2020]\n",
      " [2016]\n",
      " [2015]\n",
      " [2015]\n",
      " [2017]\n",
      " [2014]\n",
      " [2014]\n",
      " [2015]\n",
      " [2016]\n",
      " [2014]\n",
      " [2015]\n",
      " [2016]\n",
      " [2015]]\n"
     ]
    }
   ],
   "source": [
    "# reshaping it to our expected format to feed into the model\n",
    "print(\"Expected format is: \\n\", data['Year'].values.reshape(-1,1))\n",
    "\n",
    "x = data['Year'].values.reshape(-1,1)\n",
    "y = data['Price'].values.reshape(-1,1)"
   ]
  },
  {
   "cell_type": "code",
   "execution_count": 30,
   "id": "406bc71b",
   "metadata": {},
   "outputs": [
    {
     "name": "stdout",
     "output_type": "stream",
     "text": [
      "X_train is \n",
      " [[2017]\n",
      " [2017]\n",
      " [2017]\n",
      " [2015]\n",
      " [2015]\n",
      " [2014]\n",
      " [2015]\n",
      " [2017]\n",
      " [2019]\n",
      " [2018]\n",
      " [2017]\n",
      " [2017]\n",
      " [2014]\n",
      " [2015]\n",
      " [2017]\n",
      " [2015]\n",
      " [2015]\n",
      " [2016]\n",
      " [2015]\n",
      " [2020]\n",
      " [2017]\n",
      " [2017]\n",
      " [2014]\n",
      " [2017]\n",
      " [2016]\n",
      " [2017]\n",
      " [2019]\n",
      " [2015]\n",
      " [2020]\n",
      " [2017]\n",
      " [2017]\n",
      " [2017]\n",
      " [2017]\n",
      " [2017]\n",
      " [2017]\n",
      " [2017]\n",
      " [2018]\n",
      " [2019]\n",
      " [2015]\n",
      " [2017]\n",
      " [2018]\n",
      " [2017]\n",
      " [2018]\n",
      " [2015]\n",
      " [2016]\n",
      " [2015]\n",
      " [2017]\n",
      " [2017]\n",
      " [2017]\n",
      " [2013]\n",
      " [2015]\n",
      " [2019]\n",
      " [2015]\n",
      " [2017]\n",
      " [2014]\n",
      " [2015]\n",
      " [2019]\n",
      " [2014]\n",
      " [2016]\n",
      " [2017]\n",
      " [2017]\n",
      " [2017]\n",
      " [2017]\n",
      " [2014]\n",
      " [2016]\n",
      " [2017]\n",
      " [2017]\n",
      " [2017]\n",
      " [2017]\n",
      " [2020]\n",
      " [2019]\n",
      " [2013]\n",
      " [2019]\n",
      " [2019]\n",
      " [2017]\n",
      " [2017]\n",
      " [2016]\n",
      " [2017]\n",
      " [2017]\n",
      " [2015]\n",
      " [2015]\n",
      " [2018]\n",
      " [2015]\n",
      " [2017]\n",
      " [2015]\n",
      " [2017]\n",
      " [2017]\n",
      " [2018]\n",
      " [2015]]\n",
      "y_train is \n",
      " [[525000]\n",
      " [520000]\n",
      " [540000]\n",
      " [434999]\n",
      " [320000]\n",
      " [390000]\n",
      " [325000]\n",
      " [500000]\n",
      " [650000]\n",
      " [450000]\n",
      " [575000]\n",
      " [550000]\n",
      " [341000]\n",
      " [490000]\n",
      " [550000]\n",
      " [400000]\n",
      " [350000]\n",
      " [375000]\n",
      " [450000]\n",
      " [545000]\n",
      " [550000]\n",
      " [500000]\n",
      " [400000]\n",
      " [450000]\n",
      " [420000]\n",
      " [575000]\n",
      " [550000]\n",
      " [400000]\n",
      " [600000]\n",
      " [550000]\n",
      " [500000]\n",
      " [520000]\n",
      " [520000]\n",
      " [550000]\n",
      " [509999]\n",
      " [480000]\n",
      " [600000]\n",
      " [600000]\n",
      " [409999]\n",
      " [550000]\n",
      " [465000]\n",
      " [550000]\n",
      " [475000]\n",
      " [400000]\n",
      " [425000]\n",
      " [300000]\n",
      " [520000]\n",
      " [520000]\n",
      " [525000]\n",
      " [325000]\n",
      " [325000]\n",
      " [500000]\n",
      " [450000]\n",
      " [540000]\n",
      " [300000]\n",
      " [425000]\n",
      " [600000]\n",
      " [450000]\n",
      " [396000]\n",
      " [520000]\n",
      " [550000]\n",
      " [490000]\n",
      " [550000]\n",
      " [400000]\n",
      " [550000]\n",
      " [595000]\n",
      " [520000]\n",
      " [486000]\n",
      " [550000]\n",
      " [700000]\n",
      " [755000]\n",
      " [345000]\n",
      " [500000]\n",
      " [700000]\n",
      " [550000]\n",
      " [520000]\n",
      " [350000]\n",
      " [490000]\n",
      " [520000]\n",
      " [390000]\n",
      " [425000]\n",
      " [500000]\n",
      " [490000]\n",
      " [490000]\n",
      " [300000]\n",
      " [475000]\n",
      " [520000]\n",
      " [550000]\n",
      " [350000]]\n"
     ]
    }
   ],
   "source": [
    "# split the dataset to train and test\n",
    "\n",
    "from sklearn.model_selection import train_test_split\n",
    "X_train, X_test, y_train, y_test = train_test_split(x, y, test_size = 0.2, random_state = 42) \n",
    "print(\"X_train is \\n\", X_train) \n",
    "print(\"y_train is \\n\", y_train)"
   ]
  },
  {
   "cell_type": "code",
   "execution_count": 31,
   "id": "fefb301d",
   "metadata": {},
   "outputs": [
    {
     "data": {
      "text/plain": [
       "LinearRegression()"
      ]
     },
     "execution_count": 31,
     "metadata": {},
     "output_type": "execute_result"
    }
   ],
   "source": [
    "from sklearn.linear_model import LinearRegression\n",
    "regressor=LinearRegression()\n",
    "#let's fit the data\n",
    "regressor.fit(X_train,y_train)"
   ]
  },
  {
   "cell_type": "code",
   "execution_count": 32,
   "id": "95a89cce",
   "metadata": {},
   "outputs": [
    {
     "name": "stdout",
     "output_type": "stream",
     "text": [
      "for the given Year the Price will be: [[648384.48032889]]\n"
     ]
    }
   ],
   "source": [
    "#let's make a prediction\n",
    "pred=regressor.predict([[2020]])\n",
    "print(\"for the given Year the Price will be:\",pred)"
   ]
  },
  {
   "cell_type": "code",
   "execution_count": 33,
   "id": "2c6d38fa",
   "metadata": {},
   "outputs": [
    {
     "name": "stdout",
     "output_type": "stream",
     "text": [
      "y_pred for the given test data is [[600775.91252081]\n",
      " [505558.77690466]\n",
      " [553167.34471273]\n",
      " [553167.34471273]\n",
      " [553167.34471273]\n",
      " [410341.6412885 ]\n",
      " [505558.77690466]\n",
      " [553167.34471273]\n",
      " [600775.91252081]\n",
      " [600775.91252081]\n",
      " [315124.50567235]\n",
      " [505558.77690466]\n",
      " [410341.6412885 ]\n",
      " [648384.48032889]\n",
      " [553167.34471273]\n",
      " [600775.91252081]\n",
      " [315124.50567235]\n",
      " [410341.6412885 ]\n",
      " [505558.77690466]\n",
      " [505558.77690466]\n",
      " [505558.77690466]\n",
      " [505558.77690466]\n",
      " [505558.77690466]]\n"
     ]
    }
   ],
   "source": [
    "y_pred=regressor.predict(X_test)\n",
    "print(\"y_pred for the given test data is\",y_pred)"
   ]
  }
 ],
 "metadata": {
  "kernelspec": {
   "display_name": "Python 3 (ipykernel)",
   "language": "python",
   "name": "python3"
  },
  "language_info": {
   "codemirror_mode": {
    "name": "ipython",
    "version": 3
   },
   "file_extension": ".py",
   "mimetype": "text/x-python",
   "name": "python",
   "nbconvert_exporter": "python",
   "pygments_lexer": "ipython3",
   "version": "3.9.12"
  }
 },
 "nbformat": 4,
 "nbformat_minor": 5
}
